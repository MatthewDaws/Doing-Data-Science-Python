{
 "metadata": {
  "name": "",
  "signature": "sha256:4c9273e52710e236b1de8f7b99b8b5118a4cb8c6d2cfa7bfe29d77d9e49fbc93"
 },
 "nbformat": 3,
 "nbformat_minor": 0,
 "worksheets": [
  {
   "cells": [
    {
     "cell_type": "markdown",
     "metadata": {},
     "source": [
      "This is the first exercise in Chapter 2, presented using basic Python here (no pandas yet).\n",
      "\n",
      "MatPlotLib tutorial: http://nbviewer.ipython.org/github/jrjohansson/scientific-python-lectures/blob/master/Lecture-4-Matplotlib.ipynb"
     ]
    },
    {
     "cell_type": "code",
     "collapsed": false,
     "input": [
      "%matplotlib inline\n",
      "import numpy as np\n",
      "import matplotlib.pyplot as plt\n",
      "\n",
      "# For my computer\n",
      "datapath = \"../../../../Data/dds_datasets/dds_ch2_nyt/\"\n",
      "import os\n",
      "print(os.listdir(datapath))"
     ],
     "language": "python",
     "metadata": {},
     "outputs": [
      {
       "output_type": "stream",
       "stream": "stdout",
       "text": [
        "['nyt1.csv', 'nyt10.csv', 'nyt11.csv', 'nyt12.csv', 'nyt13.csv', 'nyt14.csv', 'nyt15.csv', 'nyt16.csv', 'nyt17.csv', 'nyt18.csv', 'nyt19.csv', 'nyt2.csv', 'nyt20.csv', 'nyt21.csv', 'nyt22.csv', 'nyt23.csv', 'nyt24.csv', 'nyt25.csv', 'nyt26.csv', 'nyt27.csv', 'nyt28.csv', 'nyt29.csv', 'nyt3.csv', 'nyt30.csv', 'nyt31.csv', 'nyt4.csv', 'nyt5.csv', 'nyt6.csv', 'nyt7.csv', 'nyt8.csv', 'nyt9.csv']\n"
       ]
      }
     ],
     "prompt_number": 3
    },
    {
     "cell_type": "code",
     "collapsed": false,
     "input": [
      "import csv\n",
      "\n",
      "with open(datapath+\"nyt1.csv\",newline=\"\") as f:\n",
      "    r = csv.reader(f)\n",
      "    header = next(r)\n",
      "    print(header)\n",
      "    data = list(r)\n",
      "  \n",
      "print(\"Read\",len(data),\"lines of data\")\n",
      "data[0:5]"
     ],
     "language": "python",
     "metadata": {},
     "outputs": [
      {
       "output_type": "stream",
       "stream": "stdout",
       "text": [
        "['Age', 'Gender', 'Impressions', 'Clicks', 'Signed_In']\n",
        "Read"
       ]
      },
      {
       "output_type": "stream",
       "stream": "stdout",
       "text": [
        " 458441 lines of data\n"
       ]
      },
      {
       "metadata": {},
       "output_type": "pyout",
       "prompt_number": 4,
       "text": [
        "[['36', '0', '3', '0', '1'],\n",
        " ['73', '1', '3', '0', '1'],\n",
        " ['30', '0', '3', '0', '1'],\n",
        " ['49', '1', '3', '0', '1'],\n",
        " ['47', '1', '11', '0', '1']]"
       ]
      }
     ],
     "prompt_number": 4
    },
    {
     "cell_type": "code",
     "collapsed": false,
     "input": [
      "# So all numbers, so move to integer data types\n",
      "for index, row in enumerate(data):\n",
      "    data[index] = [ int(x) for x in row ]"
     ],
     "language": "python",
     "metadata": {},
     "outputs": [],
     "prompt_number": 5
    },
    {
     "cell_type": "heading",
     "level": 1,
     "metadata": {},
     "source": [
      "Explore the data a bit"
     ]
    },
    {
     "cell_type": "heading",
     "level": 3,
     "metadata": {},
     "source": [
      "Summary of data"
     ]
    },
    {
     "cell_type": "code",
     "collapsed": false,
     "input": [
      "import statistics # Sorry, Python 3.4+ only\n",
      "\n",
      "def print_col_summary(data):\n",
      "    for col,label in enumerate(header):\n",
      "        print(label+\": \",end=\"\")\n",
      "        print(\"Min: {:.2f}, Median: {:.2f}, Mean: {:.2f}, Max: {:.2f}\".format(\n",
      "            min( (row[col] for row in data) ),\n",
      "            statistics.median( (row[col] for row in data) ),\n",
      "            statistics.mean( (row[col] for row in data) ),\n",
      "            max( (row[col] for row in data) ) ) )\n",
      "\n",
      "print_col_summary(data)"
     ],
     "language": "python",
     "metadata": {},
     "outputs": [
      {
       "output_type": "stream",
       "stream": "stdout",
       "text": [
        "Age: Min: 0.00, Median: 31.00, Mean: 29.48, Max: 108.00"
       ]
      },
      {
       "output_type": "stream",
       "stream": "stdout",
       "text": [
        "\n",
        "Gender: Min: 0.00, Median: 0.00, Mean: 0.37, Max: 1.00"
       ]
      },
      {
       "output_type": "stream",
       "stream": "stdout",
       "text": [
        "\n",
        "Impressions: Min: 0.00, Median: 5.00, Mean: 5.01, Max: 20.00"
       ]
      },
      {
       "output_type": "stream",
       "stream": "stdout",
       "text": [
        "\n",
        "Clicks: Min: 0.00, Median: 0.00, Mean: 0.09, Max: 4.00"
       ]
      },
      {
       "output_type": "stream",
       "stream": "stdout",
       "text": [
        "\n",
        "Signed_In: Min: 0.00, Median: 1.00, Mean: 0.70, Max: 1.00"
       ]
      },
      {
       "output_type": "stream",
       "stream": "stdout",
       "text": [
        "\n"
       ]
      }
     ],
     "prompt_number": 6
    },
    {
     "cell_type": "markdown",
     "metadata": {},
     "source": [
      "Notice that the \"minimum\" age is 0.  As we don't believe babies are browsing the New York Times website, perhaps this means \"no data\".  So add in an extra bin."
     ]
    },
    {
     "cell_type": "heading",
     "level": 3,
     "metadata": {},
     "source": [
      "Bin the ages"
     ]
    },
    {
     "cell_type": "code",
     "collapsed": false,
     "input": [
      "# Will handle end points as special, so should be ordered\n",
      "age_bins = [ (0,0), (0,17), (18,24), (25,34), (35,44), (45,54), (55,64), (65,65) ]\n",
      "age_bins_labels = [\"0\", \"17 below\", \"18-24\", \"25-34\", \"35-44\", \"45-54\", \"55-64\", \"65 above\"]\n",
      "\n",
      "def put_in_age_bin(age):\n",
      "    age = int(age)\n",
      "    if age <= age_bins[0][1]:\n",
      "        return 0\n",
      "    for n in range(1,len(age_bins)-1):\n",
      "        if age_bins[n][0] <= age and age <= age_bins[n][1]:\n",
      "            return n\n",
      "    return len(age_bins)-1\n",
      "\n",
      "header.append(\"AgeBin\")\n",
      "signedingen = ( row for row in data if row[header.index(\"Signed_In\")] == 1 )\n",
      "for index, row in enumerate(data):\n",
      "    data[index].append( age_bins_labels[ put_in_age_bin( row[header.index(\"Age\")] ) ] )\n",
      "\n",
      "print(header)\n",
      "data[0:5]"
     ],
     "language": "python",
     "metadata": {},
     "outputs": [
      {
       "output_type": "stream",
       "stream": "stdout",
       "text": [
        "['Age', 'Gender', 'Impressions', 'Clicks', 'Signed_In', 'AgeBin']\n"
       ]
      },
      {
       "metadata": {},
       "output_type": "pyout",
       "prompt_number": 7,
       "text": [
        "[[36, 0, 3, 0, 1, '35-44'],\n",
        " [73, 1, 3, 0, 1, '65 above'],\n",
        " [30, 0, 3, 0, 1, '25-34'],\n",
        " [49, 1, 3, 0, 1, '45-54'],\n",
        " [47, 1, 11, 0, 1, '45-54']]"
       ]
      }
     ],
     "prompt_number": 7
    },
    {
     "cell_type": "markdown",
     "metadata": {},
     "source": [
      "From the R code, we'll copy the idea to, for each type in AgeBin, we'll calculate, for the action age, the length, min, mean and max"
     ]
    },
    {
     "cell_type": "code",
     "collapsed": false,
     "input": [
      "AgeBinCats = list(set(row[header.index(\"AgeBin\")] for row in data))\n",
      "AgeBinCats.sort()\n",
      "print(\"{:10} {:>8} {:>4} {:>7} {:>5}\".format(\"AgeBin\",\"Count\",\"Min\",\"Mean\",\"Max\"))\n",
      "for cat in AgeBinCats:\n",
      "    subdata = [row[header.index(\"Age\")] for row in data if row[header.index(\"AgeBin\")]==cat]\n",
      "    print(\"{:10} {:>8} {:>4} {:>7.4} {:>5}\".format(cat, len(subdata), min(subdata), statistics.mean(subdata), max(subdata)))"
     ],
     "language": "python",
     "metadata": {},
     "outputs": [
      {
       "output_type": "stream",
       "stream": "stdout",
       "text": [
        "AgeBin        Count  Min    Mean   Max\n",
        "0            137106    0     0.0     0"
       ]
      },
      {
       "output_type": "stream",
       "stream": "stdout",
       "text": [
        "\n",
        "17 below      13828    7   15.26    17"
       ]
      },
      {
       "output_type": "stream",
       "stream": "stdout",
       "text": [
        "\n",
        "18-24         40694   18   20.83    24"
       ]
      },
      {
       "output_type": "stream",
       "stream": "stdout",
       "text": [
        "\n",
        "25-34         58174   25    29.5    34"
       ]
      },
      {
       "output_type": "stream",
       "stream": "stdout",
       "text": [
        "\n",
        "35-44         70860   35   39.49    44"
       ]
      },
      {
       "output_type": "stream",
       "stream": "stdout",
       "text": [
        "\n",
        "45-54         64288   45   49.49    54"
       ]
      },
      {
       "output_type": "stream",
       "stream": "stdout",
       "text": [
        "\n",
        "55-64         44738   55    59.5    64"
       ]
      },
      {
       "output_type": "stream",
       "stream": "stdout",
       "text": [
        "\n",
        "65 above      28753   65   72.99   108"
       ]
      },
      {
       "output_type": "stream",
       "stream": "stdout",
       "text": [
        "\n"
       ]
      }
     ],
     "prompt_number": 8
    },
    {
     "cell_type": "markdown",
     "metadata": {},
     "source": [
      "Now do the same, giving means of the other fields."
     ]
    },
    {
     "cell_type": "code",
     "collapsed": false,
     "input": [
      "def mean_helper1(name,data):\n",
      "    return statistics.mean(row[header.index(name)] for row in data)\n",
      "\n",
      "print(\"{:10} {:>12} {:>18} {:>12} {:>16}\".format(\"AgeBin\",\"Gender mean\",\"Impressions mean\",\"Clicks mean\",\"Signed_In mean\"))\n",
      "for cat in AgeBinCats:\n",
      "    subdata = [row for row in data if row[header.index(\"AgeBin\")]==cat]\n",
      "    print(\"{:10} {:>12.4} {:>18.4} {:>12.4} {:>16.4}\".format(cat, mean_helper1(\"Gender\",subdata),\n",
      "        mean_helper1(\"Impressions\",subdata), mean_helper1(\"Clicks\",subdata), mean_helper1(\"Signed_In\",subdata) ))"
     ],
     "language": "python",
     "metadata": {},
     "outputs": [
      {
       "output_type": "stream",
       "stream": "stdout",
       "text": [
        "AgeBin      Gender mean   Impressions mean  Clicks mean   Signed_In mean\n",
        "0                   0.0                5.0       0.1421              0.0"
       ]
      },
      {
       "output_type": "stream",
       "stream": "stdout",
       "text": [
        "\n",
        "17 below         0.6848              5.007       0.1493              1.0"
       ]
      },
      {
       "output_type": "stream",
       "stream": "stdout",
       "text": [
        "\n",
        "18-24            0.5338              5.003      0.05325              1.0"
       ]
      },
      {
       "output_type": "stream",
       "stream": "stdout",
       "text": [
        "\n",
        "25-34            0.5322              4.994      0.05049              1.0"
       ]
      },
      {
       "output_type": "stream",
       "stream": "stdout",
       "text": [
        "\n",
        "35-44            0.5317              5.022      0.05168              1.0"
       ]
      },
      {
       "output_type": "stream",
       "stream": "stdout",
       "text": [
        "\n",
        "45-54             0.529               5.01      0.05027              1.0"
       ]
      },
      {
       "output_type": "stream",
       "stream": "stdout",
       "text": [
        "\n",
        "55-64            0.5362              5.022       0.1018              1.0"
       ]
      },
      {
       "output_type": "stream",
       "stream": "stdout",
       "text": [
        "\n",
        "65 above         0.3633              5.012       0.1513              1.0"
       ]
      },
      {
       "output_type": "stream",
       "stream": "stdout",
       "text": [
        "\n"
       ]
      }
     ],
     "prompt_number": 9
    },
    {
     "cell_type": "markdown",
     "metadata": {},
     "source": [
      "So what we learn is that not signed in users don't have gender or age data."
     ]
    },
    {
     "cell_type": "heading",
     "level": 3,
     "metadata": {},
     "source": [
      "Doing some plots, at least in R"
     ]
    },
    {
     "cell_type": "markdown",
     "metadata": {},
     "source": [
      "In R we now draw a histogram of the \"Impressions\" field, I think \"cumulative\" for each Age Bin; I don't find this sort of plot terribly easy to parse, because everything gets stacked together.  The second suggested grade is a [Box Plot](http://en.wikipedia.org/wiki/Box_plot) which, if I've done this correctly, seems to show no difference between Age Bins.  The following checks this!"
     ]
    },
    {
     "cell_type": "code",
     "collapsed": false,
     "input": [
      "def quartiles(data):\n",
      "    \"Crude function to find quartiles\"\n",
      "    d = data[:]\n",
      "    d.sort()\n",
      "    return ( d[len(d)//4], d[len(d)//2], d[-len(d)//4] )\n",
      "\n",
      "print(\"{:10} {:>8} {:>8} {:>8} {:>8}\".format(\"AgeBin\",\"Lower\",\"Median\",\"Upper\",\"Mean\"))\n",
      "for cat in AgeBinCats:\n",
      "    subdata = [row[header.index(\"Impressions\")] for row in data if row[header.index(\"AgeBin\")]==cat]\n",
      "    q = quartiles(subdata)\n",
      "    print(\"{:10} {:>8} {:>8} {:>8} {:>8.5}\".format(cat, q[0], q[1], q[2], statistics.mean(subdata)))"
     ],
     "language": "python",
     "metadata": {},
     "outputs": [
      {
       "output_type": "stream",
       "stream": "stdout",
       "text": [
        "AgeBin        Lower   Median    Upper     Mean\n",
        "0                 3        5        6   4.9997"
       ]
      },
      {
       "output_type": "stream",
       "stream": "stdout",
       "text": [
        "\n",
        "17 below          3        5        6   5.0072"
       ]
      },
      {
       "output_type": "stream",
       "stream": "stdout",
       "text": [
        "\n",
        "18-24             3        5        6   5.0028"
       ]
      },
      {
       "output_type": "stream",
       "stream": "stdout",
       "text": [
        "\n",
        "25-34             3        5        6   4.9938"
       ]
      },
      {
       "output_type": "stream",
       "stream": "stdout",
       "text": [
        "\n",
        "35-44             3        5        6   5.0215"
       ]
      },
      {
       "output_type": "stream",
       "stream": "stdout",
       "text": [
        "\n",
        "45-54             3        5        6   5.0104"
       ]
      },
      {
       "output_type": "stream",
       "stream": "stdout",
       "text": [
        "\n",
        "55-64             3        5        6   5.0223"
       ]
      },
      {
       "output_type": "stream",
       "stream": "stdout",
       "text": [
        "\n",
        "65 above          3        5        6   5.0123"
       ]
      },
      {
       "output_type": "stream",
       "stream": "stdout",
       "text": [
        "\n"
       ]
      }
     ],
     "prompt_number": 10
    },
    {
     "cell_type": "markdown",
     "metadata": {},
     "source": [
      "Let's partition the data into \"Impressions==0\" and \"Impressions>0\" and look at the Clicks variable.  We find (as we might guess) that if Impressions==0 then also Clicks==0"
     ]
    },
    {
     "cell_type": "code",
     "collapsed": false,
     "input": [
      "subdata = [row[header.index(\"Clicks\")] for row in data if row[header.index(\"Impressions\")]==0]\n",
      "print(\"Impressions==0:\")\n",
      "print(\"   Length: {}, Min: {}, Mean: {:.4}, Max: {}\".format(len(subdata), min(subdata), statistics.mean(subdata),\n",
      "                                                            max(subdata)) )\n",
      "subdata = [row[header.index(\"Clicks\")] for row in data if row[header.index(\"Impressions\")]>0]\n",
      "print(\"Impressions>0:\")\n",
      "print(\"   Length: {}, Min: {}, Mean: {:.4}, Max: {}\".format(len(subdata), min(subdata), statistics.mean(subdata),\n",
      "                                                            max(subdata)) )"
     ],
     "language": "python",
     "metadata": {},
     "outputs": [
      {
       "output_type": "stream",
       "stream": "stdout",
       "text": [
        "Impressions==0:\n",
        "   Length: 3066, Min: 0, Mean: 0.0, Max: 0\n",
        "Impressions>0:"
       ]
      },
      {
       "output_type": "stream",
       "stream": "stdout",
       "text": [
        "\n",
        "   Length: 455375, Min: 0, Mean: 0.09322, Max: 4"
       ]
      },
      {
       "output_type": "stream",
       "stream": "stdout",
       "text": [
        "\n"
       ]
      }
     ],
     "prompt_number": 11
    },
    {
     "cell_type": "heading",
     "level": 3,
     "metadata": {},
     "source": [
      "Click through rate"
     ]
    },
    {
     "cell_type": "markdown",
     "metadata": {},
     "source": [
      "The R script now defines a \"click through rate\": Clicks/Impressions"
     ]
    },
    {
     "cell_type": "code",
     "collapsed": false,
     "input": [
      "header.append(\"CTRate\")\n",
      "for index, row in enumerate(data):\n",
      "    i = row[header.index(\"Impressions\")]\n",
      "    c = row[header.index(\"Clicks\")]\n",
      "    if i > 0:\n",
      "        data[index].append( c/i )\n",
      "    else:\n",
      "        data[index].append(-1.0)\n",
      "\n",
      "print(header)\n",
      "data[0:5]"
     ],
     "language": "python",
     "metadata": {},
     "outputs": [
      {
       "output_type": "stream",
       "stream": "stdout",
       "text": [
        "['Age', 'Gender', 'Impressions', 'Clicks', 'Signed_In', 'AgeBin', 'CTRate']\n"
       ]
      },
      {
       "metadata": {},
       "output_type": "pyout",
       "prompt_number": 12,
       "text": [
        "[[36, 0, 3, 0, 1, '35-44', 0.0],\n",
        " [73, 1, 3, 0, 1, '65 above', 0.0],\n",
        " [30, 0, 3, 0, 1, '25-34', 0.0],\n",
        " [49, 1, 3, 0, 1, '45-54', 0.0],\n",
        " [47, 1, 11, 0, 1, '45-54', 0.0]]"
       ]
      }
     ],
     "prompt_number": 12
    },
    {
     "cell_type": "code",
     "collapsed": false,
     "input": [
      "AgeBinCats = list(set(row[header.index(\"AgeBin\")] for row in data))\n",
      "AgeBinCats.sort()\n",
      "\n",
      "fig, axes = plt.subplots(nrows=3, ncols=3, figsize=(14,8), dpi=200)\n",
      "bins = [0.0, 0.01, 0.02, 0.03, 0.04, 0.05, 0.1, 0.2, 0.3,0.4,0.5,0.6,0.7,0.8,0.9,1.0]\n",
      "for cat in range(7):\n",
      "    xcat = cat % 3\n",
      "    ycat = cat // 3\n",
      "    ax = axes[ycat][xcat]\n",
      "    ct = [row[header.index(\"CTRate\")] for row in data if row[header.index(\"Impressions\")]>0 and\n",
      "          row[header.index(\"AgeBin\")]==AgeBinCats[cat]]\n",
      "    ax.hist(ct,bins=bins)\n",
      "    ax.set_title(\"Age range \"+AgeBinCats[cat])\n",
      "    \n",
      "ax = axes[2][2]\n",
      "ct = [row[header.index(\"CTRate\")] for row in data if row[header.index(\"Impressions\")]>0]\n",
      "ax.hist(ct,bins=bins)\n",
      "ax.set_title(\"All data\")\n",
      "    \n",
      "fig.tight_layout()    "
     ],
     "language": "python",
     "metadata": {},
     "outputs": [
      {
       "metadata": {},
       "output_type": "display_data",
       "png": "[encoded data removed]",
       "text": [
        "<matplotlib.figure.Figure at 0xc333160>"
       ]
      }
     ],
     "prompt_number": 13
    },
    {
     "cell_type": "markdown",
     "metadata": {},
     "source": [
      "So we see a bit of difference between the age ranges, except that the Clicks==0 case overwhelms everything. So lets focus on the cases where Clicks>0 (which of course implies that Impressions>0)."
     ]
    },
    {
     "cell_type": "code",
     "collapsed": false,
     "input": [
      "fig, axes = plt.subplots(nrows=3, ncols=3, figsize=(14,8), dpi=200)\n",
      "#bins = [0.0, 0.01, 0.02, 0.03, 0.04, 0.05, 0.1, 0.2, 0.3,0.4,0.5,0.6,0.7,0.8,0.9,1.0]\n",
      "for cat in range(7):\n",
      "    xcat = cat % 3\n",
      "    ycat = cat // 3\n",
      "    ax = axes[ycat][xcat]\n",
      "    ct = [row[header.index(\"CTRate\")] for row in data if row[header.index(\"Clicks\")]>0 and\n",
      "          row[header.index(\"AgeBin\")]==AgeBinCats[cat]]\n",
      "    ax.hist(ct)\n",
      "    ax.set_title(\"Age range \"+AgeBinCats[cat])\n",
      "    \n",
      "ax = axes[2][2]\n",
      "ct = [row[header.index(\"CTRate\")] for row in data if row[header.index(\"Clicks\")]>0]\n",
      "ax.hist(ct)\n",
      "ax.set_title(\"All data\")\n",
      "    \n",
      "fig.tight_layout()   "
     ],
     "language": "python",
     "metadata": {},
     "outputs": [
      {
       "metadata": {},
       "output_type": "display_data",
       "png": "[encoded data removed]",
       "text": [
        "<matplotlib.figure.Figure at 0xc45b9e8>"
       ]
      }
     ],
     "prompt_number": 14
    },
    {
     "cell_type": "markdown",
     "metadata": {},
     "source": [
      "The next R plot is a Box Plot of Clicks for each Age Bin, just looking at Clicks>0.  Again, I'll just produce a table, which tells us that this is not so interesting..."
     ]
    },
    {
     "cell_type": "code",
     "collapsed": false,
     "input": [
      "print(\"For Clicks variable:\")\n",
      "print(\"{:10} {:>8} {:>8} {:>8} {:>8}\".format(\"AgeBin\",\"Lower\",\"Median\",\"Upper\",\"Mean\"))\n",
      "for cat in AgeBinCats:\n",
      "    subdata = [row[header.index(\"Clicks\")] for row in data if row[header.index(\"AgeBin\")]==cat\n",
      "               and row[header.index(\"Clicks\")]>0 ]\n",
      "    q = quartiles(subdata)\n",
      "    print(\"{:10} {:>8} {:>8} {:>8} {:>8.5}\".format(cat, q[0], q[1], q[2], statistics.mean(subdata)))"
     ],
     "language": "python",
     "metadata": {},
     "outputs": [
      {
       "output_type": "stream",
       "stream": "stdout",
       "text": [
        "For Clicks variable:\n",
        "AgeBin        Lower   Median    Upper     Mean\n",
        "0                 1        1        1   1.0959"
       ]
      },
      {
       "output_type": "stream",
       "stream": "stdout",
       "text": [
        "\n",
        "17 below          1        1        1   1.0683"
       ]
      },
      {
       "output_type": "stream",
       "stream": "stdout",
       "text": [
        "\n",
        "18-24             1        1        1   1.0285"
       ]
      },
      {
       "output_type": "stream",
       "stream": "stdout",
       "text": [
        "\n",
        "25-34             1        1        1   1.0233"
       ]
      },
      {
       "output_type": "stream",
       "stream": "stdout",
       "text": [
        "\n",
        "35-44             1        1        1   1.0195"
       ]
      },
      {
       "output_type": "stream",
       "stream": "stdout",
       "text": [
        "\n",
        "45-54             1        1        1   1.0296"
       ]
      },
      {
       "output_type": "stream",
       "stream": "stdout",
       "text": [
        "\n",
        "55-64             1        1        1   1.0505"
       ]
      },
      {
       "output_type": "stream",
       "stream": "stdout",
       "text": [
        "\n",
        "65 above          1        1        1   1.0651"
       ]
      },
      {
       "output_type": "stream",
       "stream": "stdout",
       "text": [
        "\n"
       ]
      }
     ],
     "prompt_number": 15
    },
    {
     "cell_type": "code",
     "collapsed": false,
     "input": [
      "fig, axes = plt.subplots(nrows=3, ncols=3, figsize=(14,8), dpi=200)\n",
      "for cat in range(7):\n",
      "    xcat = cat % 3\n",
      "    ycat = cat // 3\n",
      "    ax = axes[ycat][xcat]\n",
      "    ct = [row[header.index(\"Clicks\")] for row in data if row[header.index(\"Clicks\")]>0 and\n",
      "          row[header.index(\"AgeBin\")]==AgeBinCats[cat]]\n",
      "    ax.hist(ct, bins=range(6))\n",
      "    ax.set_title(\"Age range \"+AgeBinCats[cat])\n",
      "    \n",
      "ax = axes[2][2]\n",
      "ct = [row[header.index(\"Clicks\")] for row in data if row[header.index(\"Clicks\")]>0]\n",
      "ax.hist(ct, bins=range(6))\n",
      "ax.set_title(\"All data\")\n",
      "    \n",
      "fig.tight_layout()   "
     ],
     "language": "python",
     "metadata": {},
     "outputs": [
      {
       "metadata": {},
       "output_type": "display_data",
       "png": "[encoded data removed]",
       "text": [
        "<matplotlib.figure.Figure at 0xc45b518>"
       ]
      }
     ],
     "prompt_number": 16
    },
    {
     "cell_type": "markdown",
     "metadata": {},
     "source": [
      "The R code finishes by creating a DataFrame containing some levels:\n",
      "   - Clicks>0, Clicks==0 and Impressions>0, Clicks==0 and Impressions==0\n",
      "   - Gender 0 or 1\n",
      "   - AgeBin\n",
      "and then just the number of entries, I think.   "
     ]
    },
    {
     "cell_type": "code",
     "collapsed": false,
     "input": [
      "header.append(\"SCode\")\n",
      "for index, row in enumerate(data):\n",
      "    i = row[header.index(\"Impressions\")]\n",
      "    c = row[header.index(\"Clicks\")]\n",
      "    if c > 0:\n",
      "        data[index].append(\"Clicks\")\n",
      "    elif i>0:\n",
      "        data[index].append(\"Imps\")\n",
      "    else:\n",
      "        data[index].append(\"NoImps\")\n",
      "\n",
      "print(header)\n",
      "data[0:5]"
     ],
     "language": "python",
     "metadata": {},
     "outputs": [
      {
       "output_type": "stream",
       "stream": "stdout",
       "text": [
        "['Age', 'Gender', 'Impressions', 'Clicks', 'Signed_In', 'AgeBin', 'CTRate', 'SCode']\n"
       ]
      },
      {
       "metadata": {},
       "output_type": "pyout",
       "prompt_number": 17,
       "text": [
        "[[36, 0, 3, 0, 1, '35-44', 0.0, 'Imps'],\n",
        " [73, 1, 3, 0, 1, '65 above', 0.0, 'Imps'],\n",
        " [30, 0, 3, 0, 1, '25-34', 0.0, 'Imps'],\n",
        " [49, 1, 3, 0, 1, '45-54', 0.0, 'Imps'],\n",
        " [47, 1, 11, 0, 1, '45-54', 0.0, 'Imps']]"
       ]
      }
     ],
     "prompt_number": 17
    },
    {
     "cell_type": "code",
     "collapsed": false,
     "input": [
      "this_header = [\"SCode\", \"Gender\", \"AgeBin\", \"count\"]\n",
      "AgeBinCats = list(set(row[header.index(\"AgeBin\")] for row in data))\n",
      "AgeBinCats.sort()"
     ],
     "language": "python",
     "metadata": {},
     "outputs": [],
     "prompt_number": 18
    }
   ],
   "metadata": {}
  }
 ]
}